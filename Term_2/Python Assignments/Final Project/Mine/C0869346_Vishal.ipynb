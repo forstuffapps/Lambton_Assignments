{
  "nbformat": 4,
  "nbformat_minor": 0,
  "metadata": {
    "colab": {
      "provenance": []
    },
    "kernelspec": {
      "name": "python3",
      "display_name": "Python 3"
    },
    "language_info": {
      "name": "python"
    }
  },
  "cells": [
    {
      "cell_type": "code",
      "execution_count": null,
      "metadata": {
        "id": "uSydcvNkBsPz"
      },
      "outputs": [],
      "source": [
        "import matplotlib.pyplot as plt\n",
        "import numpy as np\n",
        "\n",
        "\n",
        "# Full Name : Vishal Reddy Guda\n",
        "# C_Number : c0869346\n",
        "\n",
        "# Adding the title to the Graph\n",
        "plt.title(\"C0869346_Vishal_Reddy\")\n",
        "\n",
        "\n",
        "# Graph_1 Line Graph\n",
        "x = np.random.choice(100, size=50)\n",
        "# making subplots... Subplot_1\n",
        "plt.subplot(2,2,1)\n",
        "# stating a label\n",
        "plt.ylabel(\"Values range=100\")\n",
        "plt.plot(x, color='#64E9EE')\n",
        "# adding the background color for the Graph_1\n",
        "ax = plt.gca()\n",
        "ax.set_facecolor(\"#001011\")\n",
        "\n",
        "\n",
        "# Graph_2 Scatter Graph\n",
        "x=np.random.randint(400,size=20)\n",
        "y = np.random.randint(10, size=20)\n",
        "# Sub plot 2\n",
        "plt.subplot(2,2,2)\n",
        "plt.scatter(x,y, color='#EAEAEA')\n",
        "# adding the background color for the Graph_2\n",
        "ax = plt.gca()\n",
        "ax.set_facecolor(\"#050404\")\n",
        "\n",
        "\n",
        "\n",
        "# Graph_3 Bar Graph\n",
        "x=np.array(['1','2','3','4','5','6','7','8','9','10','11','12'])\n",
        "y = np.random.randint(10000, size=12)\n",
        "# Sub Plot 3\n",
        "plt.subplot(2,2,3)\n",
        "plt.ylabel(\"Stocks\")\n",
        "plt.bar(x,y, color='#D64933')\n",
        "# adding the background color for the Graph_3\n",
        "ax = plt.gca()\n",
        "ax.set_facecolor(\"#2B303A\")\n",
        "\n",
        "\n",
        "# Graph_4 Pie Graph\n",
        "y = np.array([32, 12, 14, 23, 19 ])\n",
        "mylabels = [\"Dev Team\", \"QA\", \"Design\", \"CSM\", \"Sales\"]\n",
        "Top=(0.3,0,0,0,0)\n",
        "# Sub Plot 4\n",
        "plt.subplot(2,2,4)\n",
        "plt.pie(y, labels = mylabels, autopct='%.0f', explode=Top)\n",
        "\n",
        "\n",
        "# saving the image to local\n",
        "plt.savefig('C0869346_Vishal.png')\n",
        "\n",
        "# final rendering of the graph\n",
        "plt.show()"
      ]
    },
    {
      "cell_type": "markdown",
      "source": [
        "# C0869346 Final Project\n",
        "## Code Explaination\n",
        "<br>\n",
        "\n",
        "Using the `subplot()` method I have generated and plotted **4 graphs**\n",
        "\n",
        "<br>\n",
        "\n",
        "### **Line Graph**\n",
        ">The Graph_1 is a Line graph. I have generated 50 numbers ranging 1-100.And plotted them on a Line graph.\n",
        "\n",
        "\n",
        "### **Scatter Graph**\n",
        ">The Graph_2 is a Scatter graph. Genetrated 20 points and scattered them across the graph.\n",
        "\n",
        "\n",
        "### **Bar Graph**\n",
        "> The Graph_3 is a Bar graph. The x-axis represents the months. and y-axis represents the stocks ranging 10000. Generated a Bar graph\n",
        "\n",
        "\n",
        "### **Pie Graph**\n",
        "> The Graph_4 is Pie chart. It shows the data of the teams and their population percentages in the company. ANd also it points out the team with the highest occupancy. The pie is **_highlighted_**"
      ],
      "metadata": {
        "id": "69idKOO7OtSA"
      }
    }
  ]
}
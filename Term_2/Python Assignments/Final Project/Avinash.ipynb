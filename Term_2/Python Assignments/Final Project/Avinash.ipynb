{
  "nbformat": 4,
  "nbformat_minor": 0,
  "metadata": {
    "colab": {
      "provenance": []
    },
    "kernelspec": {
      "name": "python3",
      "display_name": "Python 3"
    },
    "language_info": {
      "name": "python"
    }
  },
  "cells": [
    {
      "cell_type": "code",
      "execution_count": null,
      "metadata": {
        "id": "DATMTpbSWfcb"
      },
      "outputs": [],
      "source": [
        "import numpy as np\n",
        "import matplotlib.pyplot as plt\n",
        "#above are the libraries imported\n",
        "\n",
        "# Avinash Baddam , C0877290 \n",
        "\n",
        "# Set the title of the plot\n",
        "plt.title(\"Avinash project\")\n",
        "\n",
        "# Generate an array of 10 random integers between 0 and 99\n",
        "x = np.random.randint(100, size=10)\n",
        "\n",
        "# Get the current Axes instance and set the face color of the plot\n",
        "ax = plt.gca()\n",
        "ax.set_facecolor(\"#221E22\")\n",
        "\n",
        "# Plot the data with circular markers and a custom color\n",
        "plt.plot(x, marker='o', color='#ECA72C')\n",
        "\n",
        "# Save the plot as a png file\n",
        "plt.savefig('chart.png')\n",
        "\n",
        "# Display the plot on the screen\n",
        "plt.show()"
      ]
    },
    {
      "cell_type": "markdown",
      "source": [
        "# Explaination of the Code\n",
        "\n",
        "The code is written in Python and uses the NumPy and Matplotlib libraries. It generates an array of **10** random integers between 0 and 99 using the `np.random.randint(100, size=10)` function.\n",
        "\n",
        "1. The `plt.title(\"Avinash project\")` sets the title of the plot to **\"Avinash project\"**.\n",
        "\n",
        "2. The `ax = plt.gca()` creates a reference to the current Axes instance, which is used to set the face color of the plot using the `ax.set_facecolor(\"#221E22\")` function.\n",
        "\n",
        "3. The `plt.plot(x, marker='o', color='#ECA72C')` function plots the array x with circular markers and a custom color of **#ECA72C**.\n",
        "\n",
        "4. The `plt.savefig('chart.png')` saves the plot as an image file named  _'chart.png'_.\n",
        "\n",
        "5. Finally, `plt.show()` displays the plot on the screen.\n",
        "\n",
        "6. In summary, the code generates an array of random numbers and plots it with customized features such as the title, face color, marker style, and color. The resulting plot is then saved as an image file."
      ],
      "metadata": {
        "id": "U90Obo0VrN19"
      }
    }
  ]
}